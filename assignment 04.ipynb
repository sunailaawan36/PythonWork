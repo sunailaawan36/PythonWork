{
 "cells": [
  {
   "cell_type": "markdown",
   "metadata": {},
   "source": [
    "1. Make a calculator using Python with addition, subtraction, multiplication, division and power."
   ]
  },
  {
   "cell_type": "code",
   "execution_count": 33,
   "metadata": {},
   "outputs": [
    {
     "name": "stdout",
     "output_type": "stream",
     "text": [
      "PYTHON CALCULATOR\n",
      "\n",
      "Enter number 1: 3\n",
      "Enter number 2: 2\n",
      "Enter operator i.e. +,-,*,/,^: ^\n",
      "3 ^ 2 = 9\n"
     ]
    }
   ],
   "source": [
    "def add(x,y):\n",
    "    return x+y\n",
    "\n",
    "def sub(x,y):\n",
    "    return x-y\n",
    "\n",
    "def multiply(x,y):\n",
    "    return x*y\n",
    "\n",
    "def divide(x,y):\n",
    "    return x/y\n",
    "\n",
    "def power(x,y):\n",
    "    return x**y\n",
    "\n",
    "print(\"PYTHON CALCULATOR\\n\")\n",
    "n1=int(input(\"Enter number 1: \"))\n",
    "n2=int(input(\"Enter number 2: \"))\n",
    "op=input(\"Enter operator i.e. +,-,*,/,^: \")\n",
    "\n",
    "if op=='+':\n",
    "    print(n1,'+',n2,'=',add(n1,n2))\n",
    "elif op=='-':\n",
    "    print(n1,'-',n2,'=',sub(n1,n2))\n",
    "elif op=='*':\n",
    "    print(n1,'*',n2,'=',multiply(n1,n2))\n",
    "elif op=='/':\n",
    "    print(n1,'/',n2,'=',divide(n1,n2))\n",
    "elif op=='^':\n",
    "    print(n1,'^',n2,'=',power(n1,n2))"
   ]
  },
  {
   "cell_type": "markdown",
   "metadata": {},
   "source": [
    "2. Write a program to check if there is any numeric value in list using for loop."
   ]
  },
  {
   "cell_type": "code",
   "execution_count": 28,
   "metadata": {},
   "outputs": [
    {
     "name": "stdout",
     "output_type": "stream",
     "text": [
      "There are 3 numeric values in list.\n"
     ]
    }
   ],
   "source": [
    "ls= [1,'a',2,'b',3,'c']\n",
    "x=0\n",
    "for i in ls:\n",
    "    if type(i)==type(1):\n",
    "        x=x+1\n",
    "print(\"There are\",x,\"numeric values in list.\")"
   ]
  },
  {
   "cell_type": "markdown",
   "metadata": {},
   "source": [
    "3. Write a Python script to add a key to a dictionary."
   ]
  },
  {
   "cell_type": "code",
   "execution_count": 29,
   "metadata": {},
   "outputs": [
    {
     "name": "stdout",
     "output_type": "stream",
     "text": [
      "{'name': 'Sunaila', 'age': 23, 'department': 'Computer Systems'}\n",
      "{'name': 'Sunaila', 'age': 23, 'department': 'Computer Systems', 'batch': 2017}\n",
      "{'name': 'Sunaila', 'age': 23, 'department': 'Computer Systems', 'batch': 2017, 'passing year': 2020}\n",
      "{'name': 'Sunaila', 'age': 24, 'department': 'Computer Systems', 'batch': 2017, 'passing year': 2020}\n"
     ]
    }
   ],
   "source": [
    "dic = {\n",
    "   'name':'Sunaila',\n",
    "    'age':23,\n",
    "    'department':'Computer Systems',\n",
    "}\n",
    "print(dic)\n",
    "\n",
    "dic['batch']=2017\n",
    "print(dic)\n",
    "\n",
    "dic.update({'passing year':2020})\n",
    "print(dic)\n",
    "\n",
    "dic.update({'age':24})\n",
    "print(dic)"
   ]
  },
  {
   "cell_type": "markdown",
   "metadata": {},
   "source": [
    "4. Write a Python program to sum all the numeric items in a dictionary."
   ]
  },
  {
   "cell_type": "code",
   "execution_count": 30,
   "metadata": {},
   "outputs": [
    {
     "name": "stdout",
     "output_type": "stream",
     "text": [
      "The sum is: 6\n"
     ]
    }
   ],
   "source": [
    "dic1 = {\n",
    "    1:'a',\n",
    "    2:1,\n",
    "    3:'b',\n",
    "    4:2,\n",
    "    5:'c',\n",
    "    6:3\n",
    "}\n",
    "sums=0\n",
    "for i in dic1.values():\n",
    "    if type(i)==type(1):\n",
    "        sums=sums+i\n",
    "print(\"The sum is:\",sums)"
   ]
  },
  {
   "cell_type": "markdown",
   "metadata": {},
   "source": [
    "5. Write a program to identify duplicate values from list."
   ]
  },
  {
   "cell_type": "code",
   "execution_count": 31,
   "metadata": {},
   "outputs": [
    {
     "name": "stdout",
     "output_type": "stream",
     "text": [
      "1\n",
      "2\n",
      "c\n"
     ]
    }
   ],
   "source": [
    "ls1= [1,'a',2,'b',3,'c',1,2,'c']\n",
    "ls2=[]\n",
    "for i in ls1:\n",
    "    if i not in ls2:\n",
    "        ls2.append(i)\n",
    "    else:\n",
    "        print(i)"
   ]
  },
  {
   "cell_type": "markdown",
   "metadata": {},
   "source": [
    "6. Write a Python script to check if a given key already exists in a dictionary."
   ]
  },
  {
   "cell_type": "code",
   "execution_count": 32,
   "metadata": {},
   "outputs": [
    {
     "name": "stdout",
     "output_type": "stream",
     "text": [
      "k2 exist in dictionary\n"
     ]
    }
   ],
   "source": [
    "dic2 = {\n",
    "    'k1':1,\n",
    "    'k2':2,\n",
    "    'k3':3,\n",
    "    'k4':4,\n",
    "    'k5':5,\n",
    "    'k6':6\n",
    "}\n",
    "for i in dic2.keys():\n",
    "    if i=='k2':\n",
    "        print('k2 exist in dictionary')"
   ]
  }
 ],
 "metadata": {
  "kernelspec": {
   "display_name": "Python 3",
   "language": "python",
   "name": "python3"
  }
 },
 "nbformat": 4,
 "nbformat_minor": 4
}
